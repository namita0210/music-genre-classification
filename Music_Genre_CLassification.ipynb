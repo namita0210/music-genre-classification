{
  "nbformat": 4,
  "nbformat_minor": 0,
  "metadata": {
    "colab": {
      "provenance": [],
      "authorship_tag": "ABX9TyOiUV20ir0MnttSGABxaasf",
      "include_colab_link": true
    },
    "kernelspec": {
      "name": "python3",
      "display_name": "Python 3"
    },
    "language_info": {
      "name": "python"
    }
  },
  "cells": [
    {
      "cell_type": "markdown",
      "metadata": {
        "id": "view-in-github",
        "colab_type": "text"
      },
      "source": [
        "<a href=\"https://colab.research.google.com/github/namita0210/music-genre-classification/blob/main/Music_Genre_CLassification.ipynb\" target=\"_parent\"><img src=\"https://colab.research.google.com/assets/colab-badge.svg\" alt=\"Open In Colab\"/></a>"
      ]
    },
    {
      "cell_type": "code",
      "execution_count": null,
      "metadata": {
        "id": "Ds8xPJkkCwd-"
      },
      "outputs": [],
      "source": [
        "from IPython.display import Audio\n",
        "import librosa"
      ]
    },
    {
      "cell_type": "code",
      "source": [
        "from google.colab import drive\n",
        "drive.mount('/content/drive')"
      ],
      "metadata": {
        "colab": {
          "base_uri": "https://localhost:8080/"
        },
        "id": "uUqhb43OD7G7",
        "outputId": "a19cdc03-caf2-475f-b198-e720fc7c8e35"
      },
      "execution_count": null,
      "outputs": [
        {
          "output_type": "stream",
          "name": "stdout",
          "text": [
            "Mounted at /content/drive\n"
          ]
        }
      ]
    },
    {
      "cell_type": "code",
      "source": [
        "music = '/content/drive/MyDrive/music'"
      ],
      "metadata": {
        "id": "mEhPh8qMDYRp"
      },
      "execution_count": null,
      "outputs": []
    },
    {
      "cell_type": "code",
      "source": [
        "def cut_song(song):\n",
        "  start = 0\n",
        "  end = len(song)\n",
        "  song_pieces = []\n",
        "  while start + 100000 < end:\n",
        "    song_pieces.append(song[start:start+100000])\n",
        "    start += 100000\n",
        "  return song_pieces"
      ],
      "metadata": {
        "id": "l2mXNIy6GLc8"
      },
      "execution_count": null,
      "outputs": []
    },
    {
      "cell_type": "code",
      "source": [
        "def prepare_song(song_path):\n",
        "  list_matrices = []\n",
        "  y,sr = librosa.load(song_path,sr=22050)\n",
        "  song_pieces = cut_song(y)\n",
        "  for sp in song_pieces:\n",
        "    melspect = librosa.feature.melspectrogram(sp)\n",
        "    list_matrices.append(melspect)\n",
        "  return list_matrices"
      ],
      "metadata": {
        "id": "LjSU0oaZHGiK"
      },
      "execution_count": null,
      "outputs": []
    },
    {
      "cell_type": "code",
      "source": [
        "horror =[]\n",
        "sad = []"
      ],
      "metadata": {
        "id": "V9Npp4l5IcQB"
      },
      "execution_count": null,
      "outputs": []
    },
    {
      "cell_type": "code",
      "source": [
        "import os\n",
        "import glob\n",
        "\n",
        "# Define the path to the parent folder containing the subfolders\n",
        "parent_folder = music\n",
        "\n",
        "# Get a list of subfolders within the parent folder\n",
        "subfolders = [folder for folder in os.listdir(parent_folder) if os.path.isdir(os.path.join(parent_folder, folder))]\n",
        "\n",
        "# Iterate through each subfolder\n",
        "for subfolder in subfolders:\n",
        "    # Define the path to the current subfolder\n",
        "    subfolder_path = os.path.join(parent_folder, subfolder)\n",
        "    horror.append(subfolder_path)\n",
        "\n",
        "    # Use glob to find all MP3 files within the subfolder\n",
        "    mp3_files = glob.glob(os.path.join(subfolder_path, '*.mp3'))\n",
        "\n",
        "\n",
        "    # Print the paths of the MP3 files found\n",
        "    print(f\"MP3 files in '{subfolder}' folder:\")\n",
        "    for mp3_file in mp3_files:\n",
        "        print(mp3_file)\n"
      ],
      "metadata": {
        "colab": {
          "base_uri": "https://localhost:8080/"
        },
        "id": "zMP9P42EJ3QF",
        "outputId": "b7c5f670-aaeb-4562-f622-763fa0a488d6"
      },
      "execution_count": null,
      "outputs": [
        {
          "output_type": "stream",
          "name": "stdout",
          "text": [
            "MP3 files in 'horror' folder:\n",
            "/content/drive/MyDrive/music/horror/whip-110235.mp3\n",
            "/content/drive/MyDrive/music/horror/leonell-cassio-the-blackest-bouquet-118766.mp3\n",
            "/content/drive/MyDrive/music/horror/stranger-things-124008.mp3\n",
            "/content/drive/MyDrive/music/horror/sinister-night-halloween-trap-hip-hop-music-121202.mp3\n",
            "/content/drive/MyDrive/music/horror/dark-ambient-horror-cinematic-halloween-atmosphere-scary-118585.mp3\n",
            "/content/drive/MyDrive/music/horror/spider-121510.mp3\n",
            "/content/drive/MyDrive/music/horror/trap-beat-dark-autumn-night-141114.mp3\n",
            "/content/drive/MyDrive/music/horror/creepy-mood-141972.mp3\n",
            "/content/drive/MyDrive/music/horror/mysterious-forest-creepy-lofi-halloween-lofi-halloween-music-168238.mp3\n",
            "/content/drive/MyDrive/music/horror/bewitched-121509.mp3\n",
            "MP3 files in 'sad' folder:\n",
            "/content/drive/MyDrive/music/sad/psycho-alex-besss-main-version-01-09-14011.mp3\n",
            "/content/drive/MyDrive/music/sad/watr-fluid-10149.mp3\n",
            "/content/drive/MyDrive/music/sad/sad-emotional-beat-cry-alone-121597.mp3\n",
            "/content/drive/MyDrive/music/sad/the-beat-of-nature-122841.mp3\n",
            "/content/drive/MyDrive/music/sad/sad-trap-beat-94991.mp3\n",
            "/content/drive/MyDrive/music/sad/toxic-love-117607.mp3\n",
            "/content/drive/MyDrive/music/sad/sad-guitar-beat-15666.mp3\n",
            "/content/drive/MyDrive/music/sad/sad-soul-chasing-a-feeling-185750.mp3\n",
            "/content/drive/MyDrive/music/sad/lonewolf-dark-hard-sad-trap-beat-156895.mp3\n",
            "/content/drive/MyDrive/music/sad/hip-hop-sadness-quotalone-in-silencequot-148433.mp3\n"
          ]
        }
      ]
    },
    {
      "cell_type": "code",
      "source": [],
      "metadata": {
        "id": "-QsINjtXKH0y"
      },
      "execution_count": null,
      "outputs": []
    }
  ]
}