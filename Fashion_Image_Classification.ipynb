{
  "nbformat": 4,
  "nbformat_minor": 0,
  "metadata": {
    "colab": {
      "provenance": [],
      "machine_shape": "hm",
      "authorship_tag": "ABX9TyP32hxFk8dl5fDUM+1N1FJV",
      "include_colab_link": true
    },
    "kernelspec": {
      "name": "python3",
      "display_name": "Python 3"
    },
    "language_info": {
      "name": "python"
    }
  },
  "cells": [
    {
      "cell_type": "markdown",
      "metadata": {
        "id": "view-in-github",
        "colab_type": "text"
      },
      "source": [
        "<a href=\"https://colab.research.google.com/github/namita0210/music-genre-classification/blob/main/Fashion_Image_Classification.ipynb\" target=\"_parent\"><img src=\"https://colab.research.google.com/assets/colab-badge.svg\" alt=\"Open In Colab\"/></a>"
      ]
    },
    {
      "cell_type": "code",
      "execution_count": 25,
      "metadata": {
        "id": "i4Bx1lUNNrX9"
      },
      "outputs": [],
      "source": [
        "import os\n",
        "import torch\n",
        "from torch import nn\n",
        "from torch.utils.data import DataLoader\n",
        "from torchvision import datasets,transforms\n",
        "import torchvision.models as models"
      ]
    },
    {
      "cell_type": "code",
      "source": [
        "device =('cuda' if torch.cuda.is_available() else 'mps' if torch.backends.mps.is_available() else 'cpu')\n",
        "print(f'Using {device} device')"
      ],
      "metadata": {
        "colab": {
          "base_uri": "https://localhost:8080/"
        },
        "id": "ugExHHIGOJdj",
        "outputId": "6cb7cb14-3af2-47be-f904-5c2750e7baca"
      },
      "execution_count": 3,
      "outputs": [
        {
          "output_type": "stream",
          "name": "stdout",
          "text": [
            "Using cpu device\n"
          ]
        }
      ]
    },
    {
      "cell_type": "code",
      "source": [
        "import torch\n",
        "from torch.utils.data import Dataset\n",
        "from torchvision import datasets\n",
        "from torchvision.transforms import ToTensor\n",
        "import matplotlib.pyplot as plt\n",
        "\n",
        "\n",
        "training_data = datasets.FashionMNIST(\n",
        "    root=\"data\",\n",
        "    train=True,\n",
        "    download=True,\n",
        "    transform=ToTensor()\n",
        ")\n",
        "\n",
        "test_data = datasets.FashionMNIST(\n",
        "    root=\"data\",\n",
        "    train=False,\n",
        "    download=True,\n",
        "    transform=ToTensor()\n",
        ")"
      ],
      "metadata": {
        "colab": {
          "base_uri": "https://localhost:8080/"
        },
        "id": "E34fQN3XIBV3",
        "outputId": "bc05f404-1c7e-4d22-98a5-a4c5cdbd0050"
      },
      "execution_count": 4,
      "outputs": [
        {
          "output_type": "stream",
          "name": "stdout",
          "text": [
            "Downloading http://fashion-mnist.s3-website.eu-central-1.amazonaws.com/train-images-idx3-ubyte.gz\n",
            "Downloading http://fashion-mnist.s3-website.eu-central-1.amazonaws.com/train-images-idx3-ubyte.gz to data/FashionMNIST/raw/train-images-idx3-ubyte.gz\n"
          ]
        },
        {
          "output_type": "stream",
          "name": "stderr",
          "text": [
            "100%|██████████| 26421880/26421880 [00:03<00:00, 7599381.26it/s] \n"
          ]
        },
        {
          "output_type": "stream",
          "name": "stdout",
          "text": [
            "Extracting data/FashionMNIST/raw/train-images-idx3-ubyte.gz to data/FashionMNIST/raw\n",
            "\n",
            "Downloading http://fashion-mnist.s3-website.eu-central-1.amazonaws.com/train-labels-idx1-ubyte.gz\n",
            "Downloading http://fashion-mnist.s3-website.eu-central-1.amazonaws.com/train-labels-idx1-ubyte.gz to data/FashionMNIST/raw/train-labels-idx1-ubyte.gz\n"
          ]
        },
        {
          "output_type": "stream",
          "name": "stderr",
          "text": [
            "100%|██████████| 29515/29515 [00:00<00:00, 135120.11it/s]\n"
          ]
        },
        {
          "output_type": "stream",
          "name": "stdout",
          "text": [
            "Extracting data/FashionMNIST/raw/train-labels-idx1-ubyte.gz to data/FashionMNIST/raw\n",
            "\n",
            "Downloading http://fashion-mnist.s3-website.eu-central-1.amazonaws.com/t10k-images-idx3-ubyte.gz\n",
            "Downloading http://fashion-mnist.s3-website.eu-central-1.amazonaws.com/t10k-images-idx3-ubyte.gz to data/FashionMNIST/raw/t10k-images-idx3-ubyte.gz\n"
          ]
        },
        {
          "output_type": "stream",
          "name": "stderr",
          "text": [
            "100%|██████████| 4422102/4422102 [00:01<00:00, 2580643.20it/s]\n"
          ]
        },
        {
          "output_type": "stream",
          "name": "stdout",
          "text": [
            "Extracting data/FashionMNIST/raw/t10k-images-idx3-ubyte.gz to data/FashionMNIST/raw\n",
            "\n",
            "Downloading http://fashion-mnist.s3-website.eu-central-1.amazonaws.com/t10k-labels-idx1-ubyte.gz\n",
            "Downloading http://fashion-mnist.s3-website.eu-central-1.amazonaws.com/t10k-labels-idx1-ubyte.gz to data/FashionMNIST/raw/t10k-labels-idx1-ubyte.gz\n"
          ]
        },
        {
          "output_type": "stream",
          "name": "stderr",
          "text": [
            "100%|██████████| 5148/5148 [00:00<00:00, 11181914.55it/s]"
          ]
        },
        {
          "output_type": "stream",
          "name": "stdout",
          "text": [
            "Extracting data/FashionMNIST/raw/t10k-labels-idx1-ubyte.gz to data/FashionMNIST/raw\n",
            "\n"
          ]
        },
        {
          "output_type": "stream",
          "name": "stderr",
          "text": [
            "\n"
          ]
        }
      ]
    },
    {
      "cell_type": "code",
      "source": [
        "labels_map = {\n",
        "    0: \"T-Shirt\",\n",
        "    1: \"Trouser\",\n",
        "    2: \"Pullover\",\n",
        "    3: \"Dress\",\n",
        "    4: \"Coat\",\n",
        "    5: \"Sandal\",\n",
        "    6: \"Shirt\",\n",
        "    7: \"Sneaker\",\n",
        "    8: \"Bag\",\n",
        "    9: \"Ankle Boot\",\n",
        "}\n",
        "figure = plt.figure(figsize=(8, 8))\n",
        "cols, rows = 3, 3\n",
        "for i in range(1, cols * rows + 1):\n",
        "    sample_idx = torch.randint(len(training_data), size=(1,)).item()\n",
        "    img, label = training_data[sample_idx]\n",
        "    figure.add_subplot(rows, cols, i)\n",
        "    plt.title(labels_map[label])\n",
        "    plt.axis(\"off\")\n",
        "    plt.imshow(img.squeeze(), cmap=\"gray\")\n",
        "plt.show()"
      ],
      "metadata": {
        "colab": {
          "base_uri": "https://localhost:8080/",
          "height": 675
        },
        "id": "_PQ6p7iIIGXm",
        "outputId": "793dd854-9129-4a54-e299-141f5bc477fd"
      },
      "execution_count": 5,
      "outputs": [
        {
          "output_type": "display_data",
          "data": {
            "text/plain": [
              "<Figure size 800x800 with 9 Axes>"
            ],
            "image/png": "[encoded data removed]"
          },
          "metadata": {}
        }
      ]
    },
    {
      "cell_type": "code",
      "source": [
        "from torch.utils.data import DataLoader\n",
        "\n",
        "train_dataloader = DataLoader(training_data, batch_size=64, shuffle=True)\n",
        "test_dataloader = DataLoader(test_data, batch_size=64, shuffle=True)"
      ],
      "metadata": {
        "id": "u6jAopqrIM8k"
      },
      "execution_count": 6,
      "outputs": []
    },
    {
      "cell_type": "code",
      "source": [
        "class NeuralNetwork(nn.Module):\n",
        "    def __init__(self):\n",
        "        super().__init__()\n",
        "        self.flatten = nn.Flatten()\n",
        "        self.linear_relu_stack = nn.Sequential(\n",
        "            nn.Linear(28*28, 512),\n",
        "            nn.ReLU(),\n",
        "            nn.Linear(512, 512),\n",
        "            nn.ReLU(),\n",
        "            nn.Linear(512, 10),\n",
        "        )\n",
        "\n",
        "    def forward(self, x):\n",
        "        x = self.flatten(x)\n",
        "        logits = self.linear_relu_stack(x)\n",
        "        return logits"
      ],
      "metadata": {
        "id": "r9uogtM-txXr"
      },
      "execution_count": 7,
      "outputs": []
    },
    {
      "cell_type": "code",
      "source": [
        "#Create an instance of NeuralNetwork and move it to the device and print its structure\n",
        "model = NeuralNetwork().to(device)\n",
        "print(model)"
      ],
      "metadata": {
        "colab": {
          "base_uri": "https://localhost:8080/"
        },
        "id": "tflfdqmA2kOr",
        "outputId": "d07960bc-f900-417f-ace8-91050e5bf464"
      },
      "execution_count": 8,
      "outputs": [
        {
          "output_type": "stream",
          "name": "stdout",
          "text": [
            "NeuralNetwork(\n",
            "  (flatten): Flatten(start_dim=1, end_dim=-1)\n",
            "  (linear_relu_stack): Sequential(\n",
            "    (0): Linear(in_features=784, out_features=512, bias=True)\n",
            "    (1): ReLU()\n",
            "    (2): Linear(in_features=512, out_features=512, bias=True)\n",
            "    (3): ReLU()\n",
            "    (4): Linear(in_features=512, out_features=10, bias=True)\n",
            "  )\n",
            ")\n"
          ]
        }
      ]
    },
    {
      "cell_type": "code",
      "source": [
        "X=torch.rand(1,28,28,device=device)\n",
        "logits = model(X)\n",
        "pred_probab = nn.Softmax(dim=1)(logits)\n",
        "y_pred = pred_probab.argmax(1)"
      ],
      "metadata": {
        "id": "hbOZBJ5m3A7G"
      },
      "execution_count": 9,
      "outputs": []
    },
    {
      "cell_type": "code",
      "source": [
        "# print(f'''\n",
        "# X : {X}\n",
        "# logits : {logits}\n",
        "# pred_probab : {pred_probab}\n",
        "# y_pred : {y_pred}\n",
        "# ''')"
      ],
      "metadata": {
        "id": "7v5AUNDi-yT8"
      },
      "execution_count": 10,
      "outputs": []
    },
    {
      "cell_type": "code",
      "source": [
        "print(X.size())"
      ],
      "metadata": {
        "colab": {
          "base_uri": "https://localhost:8080/"
        },
        "id": "cv4g3FS2A0Pu",
        "outputId": "c2749828-65bf-4fcf-8e91-0c42fa52bfd1"
      },
      "execution_count": 11,
      "outputs": [
        {
          "output_type": "stream",
          "name": "stdout",
          "text": [
            "torch.Size([1, 28, 28])\n"
          ]
        }
      ]
    },
    {
      "cell_type": "code",
      "source": [
        "input_image = torch.rand(3,28,28)\n",
        "print(input_image.size())"
      ],
      "metadata": {
        "colab": {
          "base_uri": "https://localhost:8080/"
        },
        "id": "NL2R4nVzACb9",
        "outputId": "7c2a4c0e-e709-48d9-ddd9-a26e019f9b79"
      },
      "execution_count": 12,
      "outputs": [
        {
          "output_type": "stream",
          "name": "stdout",
          "text": [
            "torch.Size([3, 28, 28])\n"
          ]
        }
      ]
    },
    {
      "cell_type": "code",
      "source": [
        "flatten = nn.Flatten()\n",
        "flat_image = flatten(input_image)\n",
        "print(flat_image.size())"
      ],
      "metadata": {
        "colab": {
          "base_uri": "https://localhost:8080/"
        },
        "id": "ebun05sEAzFL",
        "outputId": "262eaa2b-6401-4b68-8ef6-cc34c73cebcf"
      },
      "execution_count": 13,
      "outputs": [
        {
          "output_type": "stream",
          "name": "stdout",
          "text": [
            "torch.Size([3, 784])\n"
          ]
        }
      ]
    },
    {
      "cell_type": "code",
      "source": [
        "print(flat_image)"
      ],
      "metadata": {
        "colab": {
          "base_uri": "https://localhost:8080/"
        },
        "id": "l89OzJ0FBB4v",
        "outputId": "4f33e45c-12b2-4197-d8ac-bd9e49f95795"
      },
      "execution_count": 14,
      "outputs": [
        {
          "output_type": "stream",
          "name": "stdout",
          "text": [
            "tensor([[2.4832e-01, 8.0294e-01, 1.9729e-05,  ..., 9.1824e-01, 3.8739e-01,\n",
            "         2.4166e-01],\n",
            "        [8.7396e-01, 4.8257e-01, 8.5004e-01,  ..., 8.5146e-01, 9.6685e-01,\n",
            "         1.7925e-01],\n",
            "        [2.3690e-01, 4.5527e-01, 5.5330e-01,  ..., 8.5297e-01, 4.1311e-01,\n",
            "         7.5595e-02]])\n"
          ]
        }
      ]
    },
    {
      "cell_type": "code",
      "source": [
        "layer1 = nn.Linear(in_features = 28*28 , out_features = 20)\n",
        "hidden1 = layer1(flat_image)\n",
        "print(hidden1.size())"
      ],
      "metadata": {
        "colab": {
          "base_uri": "https://localhost:8080/"
        },
        "id": "v6ATFEUXBEtw",
        "outputId": "7313bafb-c967-4b29-ec89-46122b393d47"
      },
      "execution_count": 15,
      "outputs": [
        {
          "output_type": "stream",
          "name": "stdout",
          "text": [
            "torch.Size([3, 20])\n"
          ]
        }
      ]
    },
    {
      "cell_type": "code",
      "source": [
        "print(hidden1) # 3 rows 20 cols from 3 rows 784 columns"
      ],
      "metadata": {
        "colab": {
          "base_uri": "https://localhost:8080/"
        },
        "id": "e8eqd0ykBWZj",
        "outputId": "a6767d53-fbaa-4d12-ded3-9c5bd984e29b"
      },
      "execution_count": 16,
      "outputs": [
        {
          "output_type": "stream",
          "name": "stdout",
          "text": [
            "tensor([[ 0.1460, -0.0357, -0.3401, -0.5903,  0.4154,  0.4526, -0.3180,  0.3312,\n",
            "         -0.0130,  0.2243, -0.3189, -0.1657, -0.1944, -0.0973,  0.2512, -0.2494,\n",
            "         -0.2039, -0.3053, -0.0414, -0.0477],\n",
            "        [ 0.3091, -0.2768, -0.0572, -0.4346,  0.2986,  0.4301, -0.0713,  0.0084,\n",
            "         -0.3623,  0.4041, -0.1447, -0.1605, -0.2247,  0.1673,  0.2357,  0.2249,\n",
            "         -0.3789, -0.4322, -0.3860, -0.0128],\n",
            "        [ 0.6131, -0.2675, -0.0192, -0.2616,  0.3092,  0.3819, -0.0382,  0.0433,\n",
            "          0.0322, -0.1994, -0.2835, -0.2387, -0.2059,  0.1935,  0.0830, -0.1201,\n",
            "         -0.1555, -0.2236, -0.1456,  0.0719]], grad_fn=<AddmmBackward0>)\n"
          ]
        }
      ]
    },
    {
      "cell_type": "code",
      "source": [
        "print(f''' Before ReLU : {hidden1}\n",
        "      Shape : {hidden1.size()}\\n''')\n",
        "\n",
        "hidden1 = nn.ReLU()(hidden1)\n",
        "\n",
        "print(f'''After Relu : {hidden1}\n",
        "      Shape : {hidden1.size()} ''')"
      ],
      "metadata": {
        "colab": {
          "base_uri": "https://localhost:8080/"
        },
        "id": "Ujm2zGxFBZpL",
        "outputId": "21182e23-0cfd-45de-d7dd-a05d884a06ea"
      },
      "execution_count": 17,
      "outputs": [
        {
          "output_type": "stream",
          "name": "stdout",
          "text": [
            " Before ReLU : tensor([[ 0.1460, -0.0357, -0.3401, -0.5903,  0.4154,  0.4526, -0.3180,  0.3312,\n",
            "         -0.0130,  0.2243, -0.3189, -0.1657, -0.1944, -0.0973,  0.2512, -0.2494,\n",
            "         -0.2039, -0.3053, -0.0414, -0.0477],\n",
            "        [ 0.3091, -0.2768, -0.0572, -0.4346,  0.2986,  0.4301, -0.0713,  0.0084,\n",
            "         -0.3623,  0.4041, -0.1447, -0.1605, -0.2247,  0.1673,  0.2357,  0.2249,\n",
            "         -0.3789, -0.4322, -0.3860, -0.0128],\n",
            "        [ 0.6131, -0.2675, -0.0192, -0.2616,  0.3092,  0.3819, -0.0382,  0.0433,\n",
            "          0.0322, -0.1994, -0.2835, -0.2387, -0.2059,  0.1935,  0.0830, -0.1201,\n",
            "         -0.1555, -0.2236, -0.1456,  0.0719]], grad_fn=<AddmmBackward0>) \n",
            "      Shape : torch.Size([3, 20])\n",
            "\n",
            "After Relu : tensor([[0.1460, 0.0000, 0.0000, 0.0000, 0.4154, 0.4526, 0.0000, 0.3312, 0.0000,\n",
            "         0.2243, 0.0000, 0.0000, 0.0000, 0.0000, 0.2512, 0.0000, 0.0000, 0.0000,\n",
            "         0.0000, 0.0000],\n",
            "        [0.3091, 0.0000, 0.0000, 0.0000, 0.2986, 0.4301, 0.0000, 0.0084, 0.0000,\n",
            "         0.4041, 0.0000, 0.0000, 0.0000, 0.1673, 0.2357, 0.2249, 0.0000, 0.0000,\n",
            "         0.0000, 0.0000],\n",
            "        [0.6131, 0.0000, 0.0000, 0.0000, 0.3092, 0.3819, 0.0000, 0.0433, 0.0322,\n",
            "         0.0000, 0.0000, 0.0000, 0.0000, 0.1935, 0.0830, 0.0000, 0.0000, 0.0000,\n",
            "         0.0000, 0.0719]], grad_fn=<ReluBackward0>)\n",
            "      Shape : torch.Size([3, 20]) \n"
          ]
        }
      ]
    },
    {
      "cell_type": "code",
      "source": [
        "seq_modules = nn.Sequential(flatten,\n",
        "                            layer1,\n",
        "                            nn.ReLU(),\n",
        "                            nn.Linear(20,10))\n",
        "input_image = torch.rand(3,28,28)\n",
        "logits = seq_modules(input_image)\n",
        "print(logits)\n",
        "print(logits.size())"
      ],
      "metadata": {
        "colab": {
          "base_uri": "https://localhost:8080/"
        },
        "id": "P4Pa_gMuB9f3",
        "outputId": "3cab5fac-c902-4011-af2b-3a5671651c14"
      },
      "execution_count": 18,
      "outputs": [
        {
          "output_type": "stream",
          "name": "stdout",
          "text": [
            "tensor([[ 0.2829,  0.1201,  0.0062,  0.0113,  0.1118,  0.1147,  0.1706,  0.0786,\n",
            "          0.0852,  0.0914],\n",
            "        [ 0.3019,  0.1043,  0.0471, -0.0071,  0.1261,  0.1743,  0.1772,  0.0764,\n",
            "          0.0388, -0.0283],\n",
            "        [ 0.2745,  0.0643, -0.0529,  0.0335,  0.0895,  0.2109,  0.1421,  0.0600,\n",
            "         -0.0311,  0.1186]], grad_fn=<AddmmBackward0>)\n",
            "torch.Size([3, 10])\n"
          ]
        }
      ]
    },
    {
      "cell_type": "code",
      "source": [
        "print(f''' Model Structure : {model} ''')\n",
        "for name, param in model.named_parameters():\n",
        "  print(f''' Layer : {name} | Size : {param.size()} | Values : {param[:2]}''')"
      ],
      "metadata": {
        "colab": {
          "base_uri": "https://localhost:8080/"
        },
        "id": "cdkjWTnpEMPD",
        "outputId": "8947be61-69b8-440e-ad0e-769fc7d83610"
      },
      "execution_count": 19,
      "outputs": [
        {
          "output_type": "stream",
          "name": "stdout",
          "text": [
            " Model Structure : NeuralNetwork(\n",
            "  (flatten): Flatten(start_dim=1, end_dim=-1)\n",
            "  (linear_relu_stack): Sequential(\n",
            "    (0): Linear(in_features=784, out_features=512, bias=True)\n",
            "    (1): ReLU()\n",
            "    (2): Linear(in_features=512, out_features=512, bias=True)\n",
            "    (3): ReLU()\n",
            "    (4): Linear(in_features=512, out_features=10, bias=True)\n",
            "  )\n",
            ") \n",
            " Layer : linear_relu_stack.0.weight | Size : torch.Size([512, 784]) | Values : tensor([[ 0.0158,  0.0116,  0.0011,  ..., -0.0091,  0.0223,  0.0002],\n",
            "        [ 0.0246,  0.0308,  0.0300,  ...,  0.0173, -0.0049,  0.0090]],\n",
            "       grad_fn=<SliceBackward0>)\n",
            " Layer : linear_relu_stack.0.bias | Size : torch.Size([512]) | Values : tensor([-0.0331, -0.0092], grad_fn=<SliceBackward0>)\n",
            " Layer : linear_relu_stack.2.weight | Size : torch.Size([512, 512]) | Values : tensor([[-0.0294,  0.0349,  0.0299,  ..., -0.0272, -0.0222, -0.0301],\n",
            "        [ 0.0396, -0.0408, -0.0057,  ...,  0.0139, -0.0373, -0.0350]],\n",
            "       grad_fn=<SliceBackward0>)\n",
            " Layer : linear_relu_stack.2.bias | Size : torch.Size([512]) | Values : tensor([ 0.0177, -0.0195], grad_fn=<SliceBackward0>)\n",
            " Layer : linear_relu_stack.4.weight | Size : torch.Size([10, 512]) | Values : tensor([[-0.0121, -0.0279,  0.0198,  ...,  0.0328, -0.0378, -0.0104],\n",
            "        [-0.0335, -0.0255,  0.0226,  ...,  0.0100,  0.0161, -0.0267]],\n",
            "       grad_fn=<SliceBackward0>)\n",
            " Layer : linear_relu_stack.4.bias | Size : torch.Size([10]) | Values : tensor([-0.0351, -0.0239], grad_fn=<SliceBackward0>)\n"
          ]
        }
      ]
    },
    {
      "cell_type": "code",
      "source": [
        "learning_rate = 1e-3\n",
        "batch_size = 64\n",
        "epochs = 5"
      ],
      "metadata": {
        "id": "Ztqwd3PDE2XA"
      },
      "execution_count": 20,
      "outputs": []
    },
    {
      "cell_type": "code",
      "source": [
        "# Initialize the loss function\n",
        "loss_fn = nn.CrossEntropyLoss()"
      ],
      "metadata": {
        "id": "aWAiag4xHFyO"
      },
      "execution_count": 21,
      "outputs": []
    },
    {
      "cell_type": "code",
      "source": [
        "optimizer = torch.optim.SGD(model.parameters(), lr=learning_rate)"
      ],
      "metadata": {
        "id": "XTbdrf5gHHOd"
      },
      "execution_count": 22,
      "outputs": []
    },
    {
      "cell_type": "code",
      "source": [
        "def train_loop(dataloader, model, loss_fn, optimizer):\n",
        "    size = len(dataloader.dataset)\n",
        "    # Set the model to training mode - important for batch normalization and dropout layers\n",
        "    # Unnecessary in this situation but added for best practices\n",
        "    model.train()\n",
        "    for batch, (X, y) in enumerate(dataloader):\n",
        "        # Compute prediction and loss\n",
        "        pred = model(X)\n",
        "        loss = loss_fn(pred, y)\n",
        "\n",
        "        # Backpropagation\n",
        "        loss.backward()\n",
        "        optimizer.step()\n",
        "        optimizer.zero_grad()\n",
        "\n",
        "        if batch % 100 == 0:\n",
        "            loss, current = loss.item(), (batch + 1) * len(X)\n",
        "            print(f\"loss: {loss:>7f}  [{current:>5d}/{size:>5d}]\")\n",
        "\n",
        "\n",
        "def test_loop(dataloader, model, loss_fn):\n",
        "    # Set the model to evaluation mode - important for batch normalization and dropout layers\n",
        "    # Unnecessary in this situation but added for best practices\n",
        "    model.eval()\n",
        "    size = len(dataloader.dataset)\n",
        "    num_batches = len(dataloader)\n",
        "    test_loss, correct = 0, 0\n",
        "\n",
        "    # Evaluating the model with torch.no_grad() ensures that no gradients are computed during test mode\n",
        "    # also serves to reduce unnecessary gradient computations and memory usage for tensors with requires_grad=True\n",
        "    with torch.no_grad():\n",
        "        for X, y in dataloader:\n",
        "            pred = model(X)\n",
        "            test_loss += loss_fn(pred, y).item()\n",
        "            correct += (pred.argmax(1) == y).type(torch.float).sum().item()\n",
        "\n",
        "    test_loss /= num_batches\n",
        "    correct /= size\n",
        "    print(f\"Test Error: \\n Accuracy: {(100*correct):>0.1f}%, Avg loss: {test_loss:>8f} \\n\")"
      ],
      "metadata": {
        "id": "BSYDAwxzHSdb"
      },
      "execution_count": 23,
      "outputs": []
    },
    {
      "cell_type": "code",
      "source": [
        "epochs = 10\n",
        "for t in range(epochs):\n",
        "    print(f\"Epoch {t+1}\\n-------------------------------\")\n",
        "    train_loop(train_dataloader, model, loss_fn, optimizer)\n",
        "    test_loop(test_dataloader, model, loss_fn)\n",
        "print(\"Done!\")"
      ],
      "metadata": {
        "colab": {
          "base_uri": "https://localhost:8080/"
        },
        "id": "k_4wmLELHJIS",
        "outputId": "63fbe782-4b61-4ff4-d42e-8684b3591a57"
      },
      "execution_count": 24,
      "outputs": [
        {
          "output_type": "stream",
          "name": "stdout",
          "text": [
            "Epoch 1\n",
            "-------------------------------\n",
            "loss: 2.305792  [   64/60000]\n",
            "loss: 2.282059  [ 6464/60000]\n",
            "loss: 2.260672  [12864/60000]\n",
            "loss: 2.255622  [19264/60000]\n",
            "loss: 2.237126  [25664/60000]\n",
            "loss: 2.229538  [32064/60000]\n",
            "loss: 2.201599  [38464/60000]\n",
            "loss: 2.194820  [44864/60000]\n",
            "loss: 2.186604  [51264/60000]\n",
            "loss: 2.159343  [57664/60000]\n",
            "Test Error: \n",
            " Accuracy: 37.2%, Avg loss: 2.153483 \n",
            "\n",
            "Epoch 2\n",
            "-------------------------------\n",
            "loss: 2.119642  [   64/60000]\n",
            "loss: 2.116712  [ 6464/60000]\n",
            "loss: 2.079606  [12864/60000]\n",
            "loss: 2.080908  [19264/60000]\n",
            "loss: 2.048141  [25664/60000]\n",
            "loss: 2.001791  [32064/60000]\n",
            "loss: 2.027142  [38464/60000]\n",
            "loss: 1.888039  [44864/60000]\n",
            "loss: 1.938890  [51264/60000]\n",
            "loss: 1.927549  [57664/60000]\n",
            "Test Error: \n",
            " Accuracy: 55.6%, Avg loss: 1.890372 \n",
            "\n",
            "Epoch 3\n",
            "-------------------------------\n",
            "loss: 1.921500  [   64/60000]\n",
            "loss: 1.858589  [ 6464/60000]\n",
            "loss: 1.775288  [12864/60000]\n",
            "loss: 1.712039  [19264/60000]\n",
            "loss: 1.813313  [25664/60000]\n",
            "loss: 1.760504  [32064/60000]\n",
            "loss: 1.634017  [38464/60000]\n",
            "loss: 1.600709  [44864/60000]\n",
            "loss: 1.503179  [51264/60000]\n",
            "loss: 1.465768  [57664/60000]\n",
            "Test Error: \n",
            " Accuracy: 61.6%, Avg loss: 1.529395 \n",
            "\n",
            "Epoch 4\n",
            "-------------------------------\n",
            "loss: 1.569173  [   64/60000]\n",
            "loss: 1.462997  [ 6464/60000]\n",
            "loss: 1.425896  [12864/60000]\n",
            "loss: 1.481532  [19264/60000]\n",
            "loss: 1.388788  [25664/60000]\n",
            "loss: 1.355669  [32064/60000]\n",
            "loss: 1.304911  [38464/60000]\n",
            "loss: 1.333370  [44864/60000]\n",
            "loss: 1.296051  [51264/60000]\n",
            "loss: 1.254731  [57664/60000]\n",
            "Test Error: \n",
            " Accuracy: 63.7%, Avg loss: 1.261821 \n",
            "\n",
            "Epoch 5\n",
            "-------------------------------\n",
            "loss: 1.301688  [   64/60000]\n",
            "loss: 1.097225  [ 6464/60000]\n",
            "loss: 1.140696  [12864/60000]\n",
            "loss: 1.102850  [19264/60000]\n",
            "loss: 1.177148  [25664/60000]\n",
            "loss: 1.184489  [32064/60000]\n",
            "loss: 1.085247  [38464/60000]\n",
            "loss: 0.982675  [44864/60000]\n",
            "loss: 1.036966  [51264/60000]\n",
            "loss: 0.946746  [57664/60000]\n",
            "Test Error: \n",
            " Accuracy: 64.7%, Avg loss: 1.095396 \n",
            "\n",
            "Epoch 6\n",
            "-------------------------------\n",
            "loss: 1.053269  [   64/60000]\n",
            "loss: 1.012738  [ 6464/60000]\n",
            "loss: 1.150754  [12864/60000]\n",
            "loss: 1.076744  [19264/60000]\n",
            "loss: 1.038957  [25664/60000]\n",
            "loss: 1.055624  [32064/60000]\n",
            "loss: 0.972543  [38464/60000]\n",
            "loss: 0.940135  [44864/60000]\n",
            "loss: 0.977103  [51264/60000]\n",
            "loss: 1.118940  [57664/60000]\n",
            "Test Error: \n",
            " Accuracy: 65.5%, Avg loss: 0.987198 \n",
            "\n",
            "Epoch 7\n",
            "-------------------------------\n",
            "loss: 0.884752  [   64/60000]\n",
            "loss: 0.996630  [ 6464/60000]\n",
            "loss: 0.929621  [12864/60000]\n",
            "loss: 0.934420  [19264/60000]\n",
            "loss: 0.818389  [25664/60000]\n",
            "loss: 1.005045  [32064/60000]\n",
            "loss: 0.834904  [38464/60000]\n",
            "loss: 0.937678  [44864/60000]\n",
            "loss: 0.993426  [51264/60000]\n",
            "loss: 0.893960  [57664/60000]\n",
            "Test Error: \n",
            " Accuracy: 66.5%, Avg loss: 0.916175 \n",
            "\n",
            "Epoch 8\n",
            "-------------------------------\n",
            "loss: 0.875877  [   64/60000]\n",
            "loss: 0.912323  [ 6464/60000]\n",
            "loss: 0.923020  [12864/60000]\n",
            "loss: 0.904449  [19264/60000]\n",
            "loss: 0.852132  [25664/60000]\n",
            "loss: 0.743825  [32064/60000]\n",
            "loss: 0.849529  [38464/60000]\n",
            "loss: 0.921166  [44864/60000]\n",
            "loss: 0.801639  [51264/60000]\n",
            "loss: 0.892991  [57664/60000]\n",
            "Test Error: \n",
            " Accuracy: 68.0%, Avg loss: 0.864512 \n",
            "\n",
            "Epoch 9\n",
            "-------------------------------\n",
            "loss: 0.771190  [   64/60000]\n",
            "loss: 0.841688  [ 6464/60000]\n",
            "loss: 0.883051  [12864/60000]\n",
            "loss: 0.769474  [19264/60000]\n",
            "loss: 0.808949  [25664/60000]\n",
            "loss: 0.685866  [32064/60000]\n",
            "loss: 0.987561  [38464/60000]\n",
            "loss: 0.859761  [44864/60000]\n",
            "loss: 0.788335  [51264/60000]\n",
            "loss: 0.961486  [57664/60000]\n",
            "Test Error: \n",
            " Accuracy: 68.7%, Avg loss: 0.824611 \n",
            "\n",
            "Epoch 10\n",
            "-------------------------------\n",
            "loss: 0.806957  [   64/60000]\n",
            "loss: 0.794293  [ 6464/60000]\n",
            "loss: 0.950969  [12864/60000]\n",
            "loss: 0.809458  [19264/60000]\n",
            "loss: 0.729681  [25664/60000]\n",
            "loss: 0.921789  [32064/60000]\n",
            "loss: 0.968971  [38464/60000]\n",
            "loss: 0.682970  [44864/60000]\n",
            "loss: 0.828773  [51264/60000]\n",
            "loss: 0.920317  [57664/60000]\n",
            "Test Error: \n",
            " Accuracy: 70.2%, Avg loss: 0.793270 \n",
            "\n",
            "Done!\n"
          ]
        }
      ]
    },
    {
      "cell_type": "code",
      "source": [
        "torch.save(model.state_dict(), 'model_weights.pth')"
      ],
      "metadata": {
        "id": "_XY9m4uBHNeI"
      },
      "execution_count": 27,
      "outputs": []
    },
    {
      "cell_type": "code",
      "source": [
        "model.load_state_dict(torch.load('model_weights.pth'))\n",
        "model.eval()"
      ],
      "metadata": {
        "colab": {
          "base_uri": "https://localhost:8080/"
        },
        "id": "3muAcjWQJbiq",
        "outputId": "f48f4fae-e8aa-45cc-cf64-dda41aab8043"
      },
      "execution_count": 28,
      "outputs": [
        {
          "output_type": "execute_result",
          "data": {
            "text/plain": [
              "VGG(\n",
              "  (features): Sequential(\n",
              "    (0): Conv2d(3, 64, kernel_size=(3, 3), stride=(1, 1), padding=(1, 1))\n",
              "    (1): ReLU(inplace=True)\n",
              "    (2): Conv2d(64, 64, kernel_size=(3, 3), stride=(1, 1), padding=(1, 1))\n",
              "    (3): ReLU(inplace=True)\n",
              "    (4): MaxPool2d(kernel_size=2, stride=2, padding=0, dilation=1, ceil_mode=False)\n",
              "    (5): Conv2d(64, 128, kernel_size=(3, 3), stride=(1, 1), padding=(1, 1))\n",
              "    (6): ReLU(inplace=True)\n",
              "    (7): Conv2d(128, 128, kernel_size=(3, 3), stride=(1, 1), padding=(1, 1))\n",
              "    (8): ReLU(inplace=True)\n",
              "    (9): MaxPool2d(kernel_size=2, stride=2, padding=0, dilation=1, ceil_mode=False)\n",
              "    (10): Conv2d(128, 256, kernel_size=(3, 3), stride=(1, 1), padding=(1, 1))\n",
              "    (11): ReLU(inplace=True)\n",
              "    (12): Conv2d(256, 256, kernel_size=(3, 3), stride=(1, 1), padding=(1, 1))\n",
              "    (13): ReLU(inplace=True)\n",
              "    (14): Conv2d(256, 256, kernel_size=(3, 3), stride=(1, 1), padding=(1, 1))\n",
              "    (15): ReLU(inplace=True)\n",
              "    (16): MaxPool2d(kernel_size=2, stride=2, padding=0, dilation=1, ceil_mode=False)\n",
              "    (17): Conv2d(256, 512, kernel_size=(3, 3), stride=(1, 1), padding=(1, 1))\n",
              "    (18): ReLU(inplace=True)\n",
              "    (19): Conv2d(512, 512, kernel_size=(3, 3), stride=(1, 1), padding=(1, 1))\n",
              "    (20): ReLU(inplace=True)\n",
              "    (21): Conv2d(512, 512, kernel_size=(3, 3), stride=(1, 1), padding=(1, 1))\n",
              "    (22): ReLU(inplace=True)\n",
              "    (23): MaxPool2d(kernel_size=2, stride=2, padding=0, dilation=1, ceil_mode=False)\n",
              "    (24): Conv2d(512, 512, kernel_size=(3, 3), stride=(1, 1), padding=(1, 1))\n",
              "    (25): ReLU(inplace=True)\n",
              "    (26): Conv2d(512, 512, kernel_size=(3, 3), stride=(1, 1), padding=(1, 1))\n",
              "    (27): ReLU(inplace=True)\n",
              "    (28): Conv2d(512, 512, kernel_size=(3, 3), stride=(1, 1), padding=(1, 1))\n",
              "    (29): ReLU(inplace=True)\n",
              "    (30): MaxPool2d(kernel_size=2, stride=2, padding=0, dilation=1, ceil_mode=False)\n",
              "  )\n",
              "  (avgpool): AdaptiveAvgPool2d(output_size=(7, 7))\n",
              "  (classifier): Sequential(\n",
              "    (0): Linear(in_features=25088, out_features=4096, bias=True)\n",
              "    (1): ReLU(inplace=True)\n",
              "    (2): Dropout(p=0.5, inplace=False)\n",
              "    (3): Linear(in_features=4096, out_features=4096, bias=True)\n",
              "    (4): ReLU(inplace=True)\n",
              "    (5): Dropout(p=0.5, inplace=False)\n",
              "    (6): Linear(in_features=4096, out_features=1000, bias=True)\n",
              "  )\n",
              ")"
            ]
          },
          "metadata": {},
          "execution_count": 28
        }
      ]
    },
    {
      "cell_type": "code",
      "source": [
        "torch.save(model, 'model.pth')"
      ],
      "metadata": {
        "id": "PskDUAyUJnVP"
      },
      "execution_count": 29,
      "outputs": []
    },
    {
      "cell_type": "code",
      "source": [
        "model = torch.load('model.pth')"
      ],
      "metadata": {
        "id": "24VHPpoLJsOq"
      },
      "execution_count": 30,
      "outputs": []
    },
    {
      "cell_type": "code",
      "source": [],
      "metadata": {
        "id": "oOHGoP2WJvgu"
      },
      "execution_count": null,
      "outputs": []
    }
  ]
}